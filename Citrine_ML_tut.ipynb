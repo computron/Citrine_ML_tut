{
 "cells": [
  {
   "cell_type": "code",
   "execution_count": 1,
   "metadata": {},
   "outputs": [],
   "source": [
    "import numpy as np\n",
    "from pandas.tools.plotting import scatter_matrix\n",
    "from pymatgen import Composition, Element, MPRester, periodic_table\n",
    "from sklearn import linear_model, cross_validation, metrics, ensemble\n",
    "import pandas as pd\n",
    "import matplotlib.pyplot as plt\n",
    "import itertools"
   ]
  },
  {
   "cell_type": "code",
   "execution_count": 2,
   "metadata": {},
   "outputs": [],
   "source": [
    "df = pd.DataFrame()   # Creating a Pandas data frame to store all the collected data from MP"
   ]
  },
  {
   "cell_type": "code",
   "execution_count": 3,
   "metadata": {},
   "outputs": [],
   "source": [
    "allBinaries = itertools.combinations(periodic_table.all_symbols(), 2)  # Create list of all binary systems"
   ]
  },
  {
   "cell_type": "code",
   "execution_count": 6,
   "metadata": {},
   "outputs": [],
   "source": [
    "with MPRester() as m:\n",
    "    for system in allBinaries:    # Getting data from MP for each binary system \n",
    "        results = m.get_data(system[0] + '-' + system[1],data_type='vasp') # Download DFT data for each binary system\n",
    "        for material in results:  # We will receive many compounds within each binary system\n",
    "                if material['e_above_hull'] < 1e-6:  # Check if this compound is thermodynamically stable\n",
    "                    dat = []\n",
    "                    dat.append(material['pretty_formula'])\n",
    "                    dat.append(material['band_gap'])\n",
    "                    dat.append(material['formation_energy_per_atom'])\n",
    "                    dat.append(material['density'])\n",
    "                    df = df.append(pd.Series(dat), ignore_index=True) # Appending one compound's data into the data frame"
   ]
  },
  {
   "cell_type": "code",
   "execution_count": 7,
   "metadata": {},
   "outputs": [],
   "source": [
    "df.columns = ['materials', 'bandgaps','formenergies','densities'] # Inserting column headers in the data frame"
   ]
  },
  {
   "cell_type": "code",
   "execution_count": 8,
   "metadata": {},
   "outputs": [],
   "source": [
    "MAX_Z = 100  # maximum length of vector to hold naive feature set"
   ]
  },
  {
   "cell_type": "code",
   "execution_count": 9,
   "metadata": {},
   "outputs": [],
   "source": [
    "# Input: pymatgen Composition object\n",
    "# Output: length-100 vector representing any chemical formula\n",
    "\n",
    "def naiveVectorize(composition):\n",
    "    vector = np.zeros((MAX_Z))\n",
    "    for element in composition:\n",
    "        fraction = composition.get_atomic_fraction(element)\n",
    "        vector[element.Z - 1] = fraction\n",
    "    return (vector)"
   ]
  },
  {
   "cell_type": "code",
   "execution_count": 10,
   "metadata": {},
   "outputs": [],
   "source": [
    "# Input: data frame\n",
    "# Output: length-100 tuple representing any chemical formula\n",
    "\n",
    "def extractVectors(x):\n",
    "    material = Composition(x[0])\n",
    "    return tuple(naiveVectorize(material))"
   ]
  },
  {
   "cell_type": "code",
   "execution_count": 11,
   "metadata": {},
   "outputs": [],
   "source": [
    "# Constructing naive feature set and adding it to the DF\n",
    "df1 = df.copy()\n",
    "df1['naiveFeatures'] = df1.apply(extractVectors, axis=1)"
   ]
  },
  {
   "cell_type": "code",
   "execution_count": 12,
   "metadata": {},
   "outputs": [
    {
     "name": "stdout",
     "output_type": "stream",
     "text": [
      "The MAE of always guessing the average band gap is: 0.73 eV\n"
     ]
    }
   ],
   "source": [
    "# Establish baseline accuracy by \"guessing the average\" of the band gap set\n",
    "# A good model should never do worse.\n",
    "baselineError = np.mean(abs(np.mean(df1[['bandgaps']]) - df1[['bandgaps']]))\n",
    "print(\"The MAE of always guessing the average band gap is: \" + str(round(baselineError, 3)) + \" eV\")"
   ]
  },
  {
   "cell_type": "code",
   "execution_count": 13,
   "metadata": {},
   "outputs": [
    {
     "name": "stdout",
     "output_type": "stream",
     "text": [
      "The MAE of the linear ridge regression band gap model using the naive feature set is: 0.464 eV\n"
     ]
    }
   ],
   "source": [
    "# alpha is a tuning parameter affecting how regression deals with collinear inputs\n",
    "linear = linear_model.Ridge(alpha=0.5)\n",
    "\n",
    "cv = cross_validation.ShuffleSplit(len(df1), n_iter=10, test_size=0.1, random_state=0)\n",
    "\n",
    "scores = cross_validation.cross_val_score(linear, list(df1['naiveFeatures']), df1['bandgaps'], cv=cv,\n",
    "                                          scoring='mean_absolute_error')\n",
    "\n",
    "print(\"The MAE of the linear ridge regression band gap model using the naive feature set is: \" \\\n",
    "      + str(round(abs(np.mean(scores)), 3)) + \" eV\")"
   ]
  },
  {
   "cell_type": "code",
   "execution_count": 14,
   "metadata": {},
   "outputs": [
    {
     "name": "stdout",
     "output_type": "stream",
     "text": [
      "Below are the fitted linear ridge regression coefficients for each feature (i.e., element) in our naive feature set\n",
      "element: coefficient\n",
      "H: 1.96142001144\n",
      "He: 0.0\n",
      "Li: 0.444221649299\n",
      "Be: 0.195760741221\n",
      "B: 0.248485361583\n",
      "C: 0.362223963055\n",
      "N: 1.69504655724\n",
      "O: 2.28205501737\n",
      "F: 3.87323972555\n",
      "Ne: 0.0\n",
      "Na: 0.688785503417\n",
      "Mg: 0.0177127541226\n",
      "Al: -0.0043132010938\n",
      "Si: 0.309155286972\n",
      "P: 0.6279892507\n",
      "S: 1.22174333821\n",
      "Cl: 2.80293292807\n",
      "Ar: 0.0\n",
      "K: 0.990519617795\n",
      "Ca: 0.0973760711906\n",
      "Sc: -0.402415289569\n",
      "Ti: -0.696466778148\n",
      "V: -0.694444834861\n",
      "Cr: -0.76213627085\n",
      "Mn: -0.510703102398\n",
      "Fe: -0.41356262473\n",
      "Co: -0.366548903428\n",
      "Ni: -0.301910461187\n",
      "Cu: -0.381100299615\n",
      "Zn: -0.152028740998\n",
      "Ga: -0.0668456068874\n",
      "Ge: 0.00623062454016\n",
      "As: 0.356393660762\n",
      "Se: 0.668092096336\n",
      "Br: 2.40131065179\n",
      "Kr: -0.0557971010417\n",
      "Rb: 0.752101549977\n",
      "Sr: 0.153851201024\n",
      "Y: -0.2686429742\n",
      "Zr: -0.53040355467\n",
      "Nb: -0.913241486354\n",
      "Mo: -0.641871837573\n",
      "Tc: -0.47314050909\n",
      "Ru: -0.303348349043\n",
      "Rh: -0.3211588663\n",
      "Pd: -0.309260427885\n",
      "Ag: -0.488962160654\n",
      "Cd: -0.220934345197\n",
      "In: -0.206667169727\n",
      "Sn: -0.163505247626\n",
      "Sb: -0.0671135458102\n",
      "Te: 0.228298204321\n",
      "I: 2.00582982388\n",
      "Xe: -0.591638356346\n",
      "Cs: 1.00669759646\n",
      "Ba: 0.122456044757\n",
      "La: -0.365234314464\n",
      "Ce: -0.837966264025\n",
      "Pr: -0.379308629985\n",
      "Nd: -0.300163213354\n",
      "Pm: -0.0653200541934\n",
      "Sm: -0.291795716071\n",
      "Eu: -0.838424385053\n",
      "Gd: -0.602752876199\n",
      "Tb: -0.307571018187\n",
      "Dy: -0.325446045154\n",
      "Ho: -0.238700981635\n",
      "Er: -0.230409897615\n",
      "Tm: -0.168247775975\n",
      "Yb: 0.137553096026\n",
      "Lu: -0.222929366795\n",
      "Hf: -0.410416011661\n",
      "Ta: -0.686839244349\n",
      "W: -0.682669720282\n",
      "Re: -0.379429688289\n",
      "Os: -0.336803909902\n",
      "Ir: -0.214268137896\n",
      "Pt: -0.281302225678\n",
      "Au: -0.30110626382\n",
      "Hg: -0.316442379927\n",
      "Tl: -0.250072367951\n",
      "Pb: -0.243971692247\n",
      "Bi: -0.283556574968\n",
      "Po: 0.0\n",
      "At: 0.0\n",
      "Rn: 0.0\n",
      "Fr: 0.0\n",
      "Ra: 0.0\n",
      "Ac: 0.46388767237\n",
      "Th: -0.35099549014\n",
      "Pa: -1.02351404638\n",
      "U: -1.61268643125\n",
      "Np: -2.02367692709\n",
      "Pu: -1.24118630371\n",
      "Am: 0.0\n",
      "Cm: 0.0\n",
      "Bk: 0.0\n",
      "Cf: 0.0\n",
      "Es: 0.0\n",
      "Fm: 0.0\n"
     ]
    }
   ],
   "source": [
    "# Let's see which features are most important for the linear model\n",
    "\n",
    "print(\n",
    "\"Below are the fitted linear ridge regression coefficients for each feature (i.e., element) in our naive feature set\")\n",
    "\n",
    "linear.fit(list(df1['naiveFeatures']), df1['bandgaps'])  # fit to the whole data set; we're not doing CV here\n",
    "\n",
    "print(\"element: coefficient\")\n",
    "\n",
    "for i in range(MAX_Z):\n",
    "    element = Element.from_Z(i + 1)\n",
    "    print(element.symbol + ': ' + str(linear.coef_[i]))"
   ]
  },
  {
   "cell_type": "code",
   "execution_count": 15,
   "metadata": {},
   "outputs": [
    {
     "name": "stdout",
     "output_type": "stream",
     "text": [
      "The MAE of the linear ridge regression band gap model using the physical feature set is: 0.562 eV\n"
     ]
    }
   ],
   "source": [
    "#  Create alternative feature set that is more physically-motivated\n",
    "\n",
    "def extractphysicalFeatures(x):\n",
    "    theseFeatures = []\n",
    "    fraction = []\n",
    "    atomicNo = []\n",
    "    eneg = []\n",
    "    group = []\n",
    "\n",
    "    for element in Composition(x[0]):\n",
    "        fraction.append(Composition(x[0]).get_atomic_fraction(element))\n",
    "        atomicNo.append(float(element.Z))\n",
    "        eneg.append(element.X)\n",
    "        group.append(float(element.group))\n",
    "\n",
    "    # We want to sort this feature set\n",
    "    # according to which element in the binary compound is more abundant\n",
    "    mustReverse = False\n",
    "\n",
    "    if fraction[1] > fraction[0]:\n",
    "        mustReverse = True\n",
    "        \n",
    "    for features in [fraction, atomicNo, eneg, group]:\n",
    "        if mustReverse:\n",
    "            features.reverse()\n",
    "    theseFeatures.append(fraction[0] / fraction[1])\n",
    "    theseFeatures.append(eneg[0] - eneg[1])\n",
    "    theseFeatures.append(group[0])\n",
    "    theseFeatures.append(group[1])\n",
    "    theseFeatures.append(x[2])\n",
    "    theseFeatures.append(x[3])\n",
    "    return tuple(theseFeatures)\n",
    "\n",
    "\n",
    "df1['physicalFeatures'] = df1.apply(extractphysicalFeatures, axis=1)\n",
    "\n",
    "scores = cross_validation.cross_val_score(linear, list(df1['physicalFeatures']), df1['bandgaps'], cv=cv,\n",
    "                                          scoring='mean_absolute_error')\n",
    "\n",
    "print(\"The MAE of the linear ridge regression band gap model using the physical feature set is: \" \\\n",
    "      + str(round(abs(np.mean(scores)), 3)) + \" eV\")"
   ]
  },
  {
   "cell_type": "code",
   "execution_count": 17,
   "metadata": {},
   "outputs": [
    {
     "name": "stdout",
     "output_type": "stream",
     "text": [
      "The MAE of the nonlinear random forest band gap model using the naive feature set is: 0.348 eV\n",
      "The MAE of the nonlinear random forest band gap model using the physical feature set is: 0.233 eV\n"
     ]
    }
   ],
   "source": [
    "rfr = ensemble.RandomForestRegressor(n_estimators=10) #try 10 trees in the forest\n",
    "\n",
    "scores = cross_validation.cross_val_score(rfr, list(df1['naiveFeatures']), df1['bandgaps'], cv=cv, scoring='mean_absolute_error')\n",
    "\n",
    "print(\"The MAE of the nonlinear random forest band gap model using the naive feature set is: \"\\\n",
    "\t+ str(round(abs(np.mean(scores)), 3)) + \" eV\")\n",
    "\n",
    "scores = cross_validation.cross_val_score(rfr, list(df1['physicalFeatures']), df1['bandgaps'], cv=cv, scoring='mean_absolute_error')\n",
    "\n",
    "print(\"The MAE of the nonlinear random forest band gap model using the physical feature set is: \" \\\n",
    "      + str(round(abs(np.mean(scores)), 3)) + \" eV\")"
   ]
  },
  {
   "cell_type": "code",
   "execution_count": 23,
   "metadata": {},
   "outputs": [
    {
     "ename": "IOError",
     "evalue": "[Errno 2] No such file or directory: u'scatter_plot.png'",
     "output_type": "error",
     "traceback": [
      "\u001b[0;31m---------------------------------------------------------------------------\u001b[0m",
      "\u001b[0;31mIOError\u001b[0m                                   Traceback (most recent call last)",
      "\u001b[0;32m<ipython-input-23-eb9170cf6852>\u001b[0m in \u001b[0;36m<module>\u001b[0;34m()\u001b[0m\n\u001b[1;32m      3\u001b[0m \u001b[0;34m\u001b[0m\u001b[0m\n\u001b[1;32m      4\u001b[0m \u001b[0;32mfrom\u001b[0m \u001b[0mIPython\u001b[0m\u001b[0;34m.\u001b[0m\u001b[0mdisplay\u001b[0m \u001b[0;32mimport\u001b[0m \u001b[0mImage\u001b[0m\u001b[0;34m\u001b[0m\u001b[0m\n\u001b[0;32m----> 5\u001b[0;31m \u001b[0mImage\u001b[0m\u001b[0;34m(\u001b[0m\u001b[0mfilename\u001b[0m\u001b[0;34m=\u001b[0m\u001b[0;34m\"scatter_plot.png\"\u001b[0m\u001b[0;34m)\u001b[0m\u001b[0;34m\u001b[0m\u001b[0m\n\u001b[0m",
      "\u001b[0;32m/Users/sbajaj/Library/Python/2.7/lib/python/site-packages/IPython/core/display.pyc\u001b[0m in \u001b[0;36m__init__\u001b[0;34m(self, data, url, filename, format, embed, width, height, retina, unconfined, metadata)\u001b[0m\n\u001b[1;32m    737\u001b[0m         \u001b[0mself\u001b[0m\u001b[0;34m.\u001b[0m\u001b[0munconfined\u001b[0m \u001b[0;34m=\u001b[0m \u001b[0munconfined\u001b[0m\u001b[0;34m\u001b[0m\u001b[0m\n\u001b[1;32m    738\u001b[0m         \u001b[0mself\u001b[0m\u001b[0;34m.\u001b[0m\u001b[0mmetadata\u001b[0m \u001b[0;34m=\u001b[0m \u001b[0mmetadata\u001b[0m\u001b[0;34m\u001b[0m\u001b[0m\n\u001b[0;32m--> 739\u001b[0;31m         \u001b[0msuper\u001b[0m\u001b[0;34m(\u001b[0m\u001b[0mImage\u001b[0m\u001b[0;34m,\u001b[0m \u001b[0mself\u001b[0m\u001b[0;34m)\u001b[0m\u001b[0;34m.\u001b[0m\u001b[0m__init__\u001b[0m\u001b[0;34m(\u001b[0m\u001b[0mdata\u001b[0m\u001b[0;34m=\u001b[0m\u001b[0mdata\u001b[0m\u001b[0;34m,\u001b[0m \u001b[0murl\u001b[0m\u001b[0;34m=\u001b[0m\u001b[0murl\u001b[0m\u001b[0;34m,\u001b[0m \u001b[0mfilename\u001b[0m\u001b[0;34m=\u001b[0m\u001b[0mfilename\u001b[0m\u001b[0;34m)\u001b[0m\u001b[0;34m\u001b[0m\u001b[0m\n\u001b[0m\u001b[1;32m    740\u001b[0m \u001b[0;34m\u001b[0m\u001b[0m\n\u001b[1;32m    741\u001b[0m         \u001b[0;32mif\u001b[0m \u001b[0mretina\u001b[0m\u001b[0;34m:\u001b[0m\u001b[0;34m\u001b[0m\u001b[0m\n",
      "\u001b[0;32m/Users/sbajaj/Library/Python/2.7/lib/python/site-packages/IPython/core/display.pyc\u001b[0m in \u001b[0;36m__init__\u001b[0;34m(self, data, url, filename)\u001b[0m\n\u001b[1;32m    384\u001b[0m         \u001b[0mself\u001b[0m\u001b[0;34m.\u001b[0m\u001b[0mfilename\u001b[0m \u001b[0;34m=\u001b[0m \u001b[0mNone\u001b[0m \u001b[0;32mif\u001b[0m \u001b[0mfilename\u001b[0m \u001b[0;32mis\u001b[0m \u001b[0mNone\u001b[0m \u001b[0;32melse\u001b[0m \u001b[0municode_type\u001b[0m\u001b[0;34m(\u001b[0m\u001b[0mfilename\u001b[0m\u001b[0;34m)\u001b[0m\u001b[0;34m\u001b[0m\u001b[0m\n\u001b[1;32m    385\u001b[0m \u001b[0;34m\u001b[0m\u001b[0m\n\u001b[0;32m--> 386\u001b[0;31m         \u001b[0mself\u001b[0m\u001b[0;34m.\u001b[0m\u001b[0mreload\u001b[0m\u001b[0;34m(\u001b[0m\u001b[0;34m)\u001b[0m\u001b[0;34m\u001b[0m\u001b[0m\n\u001b[0m\u001b[1;32m    387\u001b[0m         \u001b[0mself\u001b[0m\u001b[0;34m.\u001b[0m\u001b[0m_check_data\u001b[0m\u001b[0;34m(\u001b[0m\u001b[0;34m)\u001b[0m\u001b[0;34m\u001b[0m\u001b[0m\n\u001b[1;32m    388\u001b[0m \u001b[0;34m\u001b[0m\u001b[0m\n",
      "\u001b[0;32m/Users/sbajaj/Library/Python/2.7/lib/python/site-packages/IPython/core/display.pyc\u001b[0m in \u001b[0;36mreload\u001b[0;34m(self)\u001b[0m\n\u001b[1;32m    759\u001b[0m         \u001b[0;34m\"\"\"Reload the raw data from file or URL.\"\"\"\u001b[0m\u001b[0;34m\u001b[0m\u001b[0m\n\u001b[1;32m    760\u001b[0m         \u001b[0;32mif\u001b[0m \u001b[0mself\u001b[0m\u001b[0;34m.\u001b[0m\u001b[0membed\u001b[0m\u001b[0;34m:\u001b[0m\u001b[0;34m\u001b[0m\u001b[0m\n\u001b[0;32m--> 761\u001b[0;31m             \u001b[0msuper\u001b[0m\u001b[0;34m(\u001b[0m\u001b[0mImage\u001b[0m\u001b[0;34m,\u001b[0m\u001b[0mself\u001b[0m\u001b[0;34m)\u001b[0m\u001b[0;34m.\u001b[0m\u001b[0mreload\u001b[0m\u001b[0;34m(\u001b[0m\u001b[0;34m)\u001b[0m\u001b[0;34m\u001b[0m\u001b[0m\n\u001b[0m\u001b[1;32m    762\u001b[0m             \u001b[0;32mif\u001b[0m \u001b[0mself\u001b[0m\u001b[0;34m.\u001b[0m\u001b[0mretina\u001b[0m\u001b[0;34m:\u001b[0m\u001b[0;34m\u001b[0m\u001b[0m\n\u001b[1;32m    763\u001b[0m                 \u001b[0mself\u001b[0m\u001b[0;34m.\u001b[0m\u001b[0m_retina_shape\u001b[0m\u001b[0;34m(\u001b[0m\u001b[0;34m)\u001b[0m\u001b[0;34m\u001b[0m\u001b[0m\n",
      "\u001b[0;32m/Users/sbajaj/Library/Python/2.7/lib/python/site-packages/IPython/core/display.pyc\u001b[0m in \u001b[0;36mreload\u001b[0;34m(self)\u001b[0m\n\u001b[1;32m    402\u001b[0m         \u001b[0;34m\"\"\"Reload the raw data from file or URL.\"\"\"\u001b[0m\u001b[0;34m\u001b[0m\u001b[0m\n\u001b[1;32m    403\u001b[0m         \u001b[0;32mif\u001b[0m \u001b[0mself\u001b[0m\u001b[0;34m.\u001b[0m\u001b[0mfilename\u001b[0m \u001b[0;32mis\u001b[0m \u001b[0;32mnot\u001b[0m \u001b[0mNone\u001b[0m\u001b[0;34m:\u001b[0m\u001b[0;34m\u001b[0m\u001b[0m\n\u001b[0;32m--> 404\u001b[0;31m             \u001b[0;32mwith\u001b[0m \u001b[0mopen\u001b[0m\u001b[0;34m(\u001b[0m\u001b[0mself\u001b[0m\u001b[0;34m.\u001b[0m\u001b[0mfilename\u001b[0m\u001b[0;34m,\u001b[0m \u001b[0mself\u001b[0m\u001b[0;34m.\u001b[0m\u001b[0m_read_flags\u001b[0m\u001b[0;34m)\u001b[0m \u001b[0;32mas\u001b[0m \u001b[0mf\u001b[0m\u001b[0;34m:\u001b[0m\u001b[0;34m\u001b[0m\u001b[0m\n\u001b[0m\u001b[1;32m    405\u001b[0m                 \u001b[0mself\u001b[0m\u001b[0;34m.\u001b[0m\u001b[0mdata\u001b[0m \u001b[0;34m=\u001b[0m \u001b[0mf\u001b[0m\u001b[0;34m.\u001b[0m\u001b[0mread\u001b[0m\u001b[0;34m(\u001b[0m\u001b[0;34m)\u001b[0m\u001b[0;34m\u001b[0m\u001b[0m\n\u001b[1;32m    406\u001b[0m         \u001b[0;32melif\u001b[0m \u001b[0mself\u001b[0m\u001b[0;34m.\u001b[0m\u001b[0murl\u001b[0m \u001b[0;32mis\u001b[0m \u001b[0;32mnot\u001b[0m \u001b[0mNone\u001b[0m\u001b[0;34m:\u001b[0m\u001b[0;34m\u001b[0m\u001b[0m\n",
      "\u001b[0;31mIOError\u001b[0m: [Errno 2] No such file or directory: u'scatter_plot.png'"
     ]
    }
   ],
   "source": [
    "scatter_matrix(df1)\n",
    "plt.show()\n",
    "\n",
    "from IPython.display import Image\n",
    "Image(filename=\"scatter_plot.png\")"
   ]
  }
 ],
 "metadata": {
  "kernelspec": {
   "display_name": "Python 2",
   "language": "python",
   "name": "python2"
  },
  "language_info": {
   "codemirror_mode": {
    "name": "ipython",
    "version": 2.0
   },
   "file_extension": ".py",
   "mimetype": "text/x-python",
   "name": "python",
   "nbconvert_exporter": "python",
   "pygments_lexer": "ipython2",
   "version": "2.7.10"
  }
 },
 "nbformat": 4,
 "nbformat_minor": 0
}